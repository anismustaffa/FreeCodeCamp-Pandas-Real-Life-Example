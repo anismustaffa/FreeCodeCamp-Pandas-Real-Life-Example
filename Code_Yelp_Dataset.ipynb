{
  "nbformat": 4,
  "nbformat_minor": 0,
  "metadata": {
    "colab": {
      "provenance": [],
      "include_colab_link": true
    },
    "kernelspec": {
      "name": "python3",
      "display_name": "Python 3"
    },
    "language_info": {
      "name": "python"
    }
  },
  "cells": [
    {
      "cell_type": "markdown",
      "metadata": {
        "id": "view-in-github",
        "colab_type": "text"
      },
      "source": [
        "<a href=\"https://colab.research.google.com/github/anismustaffa/FreeCodeCamp-Pandas-Real-Life-Example/blob/master/Code_Yelp_Dataset.ipynb\" target=\"_parent\"><img src=\"https://colab.research.google.com/assets/colab-badge.svg\" alt=\"Open In Colab\"/></a>"
      ]
    },
    {
      "cell_type": "code",
      "source": [
        "import pandas as pd\n",
        "from collections import Counter\n",
        "from google.colab import drive\n",
        "\n",
        "drive.mount('/content/gdrive')"
      ],
      "metadata": {
        "colab": {
          "base_uri": "https://localhost:8080/"
        },
        "id": "8dQ888hgz5Ka",
        "outputId": "b5e042f9-ae1c-40eb-9c7d-c2e2bb96136d"
      },
      "execution_count": 3,
      "outputs": [
        {
          "output_type": "stream",
          "name": "stdout",
          "text": [
            "Drive already mounted at /content/gdrive; to attempt to forcibly remount, call drive.mount(\"/content/gdrive\", force_remount=True).\n"
          ]
        }
      ]
    },
    {
      "cell_type": "code",
      "source": [
        "# Read the CSV files into DataFrames\n",
        "business_file_path = '/content/gdrive/MyDrive/BA572/yelp_academic_dataset_business.csv'\n",
        "review_file_path = '/content/gdrive/MyDrive/BA572/yelp_academic_dataset_review.csv'\n",
        "\n",
        "business = pd.read_csv(business_file_path)\n",
        "review = pd.read_csv(review_file_path)\n",
        "\n",
        "# List the columns of the DataFrame\n",
        "columns_list = business.columns.tolist()\n",
        "print(\"Columns in the 'business' DataFrame:\")\n",
        "for col in columns_list:\n",
        "    print(col)\n"
      ],
      "metadata": {
        "colab": {
          "base_uri": "https://localhost:8080/"
        },
        "id": "8tHFryjUzRMg",
        "outputId": "900bbe89-3eb0-45c3-d41f-367c86d0ddce"
      },
      "execution_count": 4,
      "outputs": [
        {
          "output_type": "stream",
          "name": "stderr",
          "text": [
            "<ipython-input-4-0c971c280691>:6: DtypeWarning: Columns (0) have mixed types. Specify dtype option on import or set low_memory=False.\n",
            "  review = pd.read_csv(review_file_path)\n"
          ]
        },
        {
          "output_type": "stream",
          "name": "stdout",
          "text": [
            "Columns in the 'business' DataFrame:\n",
            "Unnamed: 0\n",
            "business_id\n",
            "name\n",
            "address\n",
            "city\n",
            "state\n",
            "postal_code\n",
            "latitude\n",
            "longitude\n",
            "stars\n",
            "review_count\n",
            "is_open\n",
            "attributes\n",
            "categories\n",
            "hours\n"
          ]
        }
      ]
    },
    {
      "cell_type": "code",
      "source": [
        "# Split the categories in the 'categories' column and count the occurrences of each category\n",
        "categories_counter = Counter([category.strip() for categories in business['categories'].dropna() for category in categories.split(',')])\n",
        "\n",
        "# Get the top 10 most common categories\n",
        "top_10_categories = categories_counter.most_common(10)\n",
        "\n",
        "# Print the top 10 categories\n",
        "print(\"Top 10 most common types of businesses:\")\n",
        "for category, count in top_10_categories:\n",
        "    print(f\"{category}: {count} businesses\")"
      ],
      "metadata": {
        "colab": {
          "base_uri": "https://localhost:8080/"
        },
        "id": "wUc0yR3o0Z0k",
        "outputId": "578b7b7e-102c-433a-e59f-8cf21a1b49d3"
      },
      "execution_count": 5,
      "outputs": [
        {
          "output_type": "stream",
          "name": "stdout",
          "text": [
            "Top 10 most common types of businesses:\n",
            "Restaurants: 52268 businesses\n",
            "Food: 27781 businesses\n",
            "Shopping: 24395 businesses\n",
            "Home Services: 14356 businesses\n",
            "Beauty & Spas: 14292 businesses\n",
            "Nightlife: 12281 businesses\n",
            "Health & Medical: 11890 businesses\n",
            "Local Services: 11198 businesses\n",
            "Bars: 11065 businesses\n",
            "Automotive: 10773 businesses\n"
          ]
        }
      ]
    },
    {
      "cell_type": "code",
      "source": [
        "# List the columns of the DataFrame\n",
        "columns_list = review.columns.tolist()\n",
        "print(\"Columns in the 'yelp_academic_dataset_review' DataFrame:\")\n",
        "for col in columns_list:\n",
        "    print(col)"
      ],
      "metadata": {
        "colab": {
          "base_uri": "https://localhost:8080/"
        },
        "id": "NNfLQSAL5_Lo",
        "outputId": "4859b182-ed25-4309-93ee-1e8a9cf673b1"
      },
      "execution_count": 6,
      "outputs": [
        {
          "output_type": "stream",
          "name": "stdout",
          "text": [
            "Columns in the 'yelp_academic_dataset_review' DataFrame:\n",
            "Unnamed: 0\n",
            "review_id\n",
            "user_id\n",
            "business_id\n",
            "stars\n",
            "useful\n",
            "funny\n",
            "cool\n",
            "text\n",
            "date\n"
          ]
        }
      ]
    },
    {
      "cell_type": "code",
      "source": [
        "# Filter the 'business' DataFrame to include only rows with 'Shopping' in 'categories'\n",
        "shopping_business = business[business['categories'].str.contains('Shopping', case=False, na=False)]\n",
        "\n",
        "# Merge the filtered 'business' DataFrame with the 'review' DataFrame on 'business_id'\n",
        "merged_data = pd.merge(shopping_business, review, on='business_id', how='inner')\n",
        "\n",
        "# Check if 'stars_x' and 'stars_y' columns exist in the merged data\n",
        "if 'stars_x' in merged_data.columns and 'stars_y' in merged_data.columns:\n",
        "    # Create a new column 'merged_stars' by merging 'stars_x' and 'stars_y'\n",
        "    merged_data['stars'] = merged_data.apply(lambda row: row['stars_x'] if pd.notna(row['stars_x']) else row['stars_y'], axis=1)\n",
        "\n",
        "    # Drop 'stars_x' and 'stars_y' columns\n",
        "    merged_data.drop(['stars_x', 'stars_y'], axis=1, inplace=True)\n",
        "# Save the merged data into another file\n",
        "merged_file_path = '/content/gdrive/MyDrive/BA572/shopping_business_reviews.csv'\n",
        "merged_data.to_csv(merged_file_path, index=False)\n",
        "\n",
        "print(\"Merged data saved successfully.\")"
      ],
      "metadata": {
        "colab": {
          "base_uri": "https://localhost:8080/"
        },
        "id": "8n1Jm1U78MxA",
        "outputId": "67b29663-ec09-4f82-eb68-ea699fdcecb5"
      },
      "execution_count": 10,
      "outputs": [
        {
          "output_type": "stream",
          "name": "stdout",
          "text": [
            "Merged data saved successfully.\n"
          ]
        }
      ]
    },
    {
      "cell_type": "code",
      "source": [
        "# Check the column names to ensure 'stars' column exists\n",
        "print(\"Column names in the merged data:\")\n",
        "print(merged_data.columns)\n",
        "\n",
        "# Separate the data into two DataFrames based on star ratings if 'stars' column exists\n",
        "if 'stars' in merged_data.columns:\n",
        "    low_rated_reviews = merged_data[(merged_data['stars'] == 1.0) | (merged_data['stars'] == 2.0)]\n",
        "    high_rated_reviews = merged_data[(merged_data['stars'] == 4.0) | (merged_data['stars'] == 5.0)]\n",
        "\n",
        "    # Save the separated DataFrames into new CSV files\n",
        "    low_rated_file_path = '/content/gdrive/MyDrive/BA572/low_rated_reviews.csv'\n",
        "    high_rated_file_path = '/content/gdrive/MyDrive/BA572/high_rated_reviews.csv'\n",
        "\n",
        "    low_rated_reviews.to_csv(low_rated_file_path, index=False)\n",
        "    high_rated_reviews.to_csv(high_rated_file_path, index=False)\n",
        "\n",
        "    print(\"Separation and saving completed successfully.\")\n",
        "else:\n",
        "    print(\"The 'stars' column does not exist in the merged data. Check the column names.\")"
      ],
      "metadata": {
        "id": "_1HTgI0zDxdO",
        "outputId": "4738f690-7ebd-40ac-d5ff-60b64c25e8d2",
        "colab": {
          "base_uri": "https://localhost:8080/"
        }
      },
      "execution_count": 11,
      "outputs": [
        {
          "output_type": "stream",
          "name": "stdout",
          "text": [
            "Column names in the merged data:\n",
            "Index(['Unnamed: 0_x', 'business_id', 'name', 'address', 'city', 'state',\n",
            "       'postal_code', 'latitude', 'longitude', 'review_count', 'is_open',\n",
            "       'attributes', 'categories', 'hours', 'Unnamed: 0_y', 'review_id',\n",
            "       'user_id', 'useful', 'funny', 'cool', 'text', 'date', 'stars'],\n",
            "      dtype='object')\n",
            "Separation and saving completed successfully.\n"
          ]
        }
      ]
    }
  ]
}